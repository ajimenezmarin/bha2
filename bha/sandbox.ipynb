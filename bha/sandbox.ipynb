{
 "cells": [
  {
   "cell_type": "code",
   "execution_count": 1,
   "metadata": {},
   "outputs": [],
   "source": [
    "import numpy as np\n",
    "import pandas as pd\n",
    "from tree_features import connectome_average, matrix_fusion, tree_connectivity, tree_dictionary\n",
    "from io_functions import load_data\n",
    "import os\n",
    "import json\n",
    "import glob\n",
    "import inspect\n"
   ]
  },
  {
   "cell_type": "code",
   "execution_count": 2,
   "metadata": {},
   "outputs": [],
   "source": [
    "project_path = \"/home/antoniojm/Documents/projects/BHA_5G/lemon\"\n",
    "sc_group = load_data(os.path.join(project_path, \"sc\"))\n",
    "fc_group = load_data(os.path.join(project_path, \"fc\"))\n",
    "fcm, scm = connectome_average(fc_group, sc_group)\n",
    "\n",
    "for g in np.arange(0, 1.1, 0.1):\n",
    "    W = matrix_fusion(g, fcm, scm)\n",
    "    t_dict = tree_dictionary(10, 20, W)\n",
    "    json.dump(t_dict, open(os.path.join(project_path, \"df_connectomes\", \"tree_features_g_\" + str(g) + \".json\"), \"w\"))\n",
    "    full_df = pd.DataFrame()\n",
    "    for idx in range(0,len(sc_group)):\n",
    "        sc_indiv = pd.DataFrame(sc_group[idx])\n",
    "        fc_indiv = pd.DataFrame(fc_group[idx])\n",
    "        t_features = tree_connectivity(10, 20, W, sc_indiv, fc_indiv)\n",
    "        full_df = full_df.append(t_features)\n",
    "    \n",
    "    full_df = full_df.loc[:, ~full_df.apply(lambda x: x.duplicated(), axis=1).all()].copy()\n",
    "    full_df.to_csv(os.path.join(project_path, \"df_connectomes\", \"tree_features_g_\" + str(g) + \".csv\"), index=False)\n"
   ]
  },
  {
   "cell_type": "code",
   "execution_count": null,
   "metadata": {},
   "outputs": [],
   "source": []
  }
 ],
 "metadata": {
  "kernelspec": {
   "display_name": "Python 3.8.5 64-bit",
   "language": "python",
   "name": "python3"
  },
  "language_info": {
   "codemirror_mode": {
    "name": "ipython",
    "version": 3
   },
   "file_extension": ".py",
   "mimetype": "text/x-python",
   "name": "python",
   "nbconvert_exporter": "python",
   "pygments_lexer": "ipython3",
   "version": "3.8.5"
  },
  "orig_nbformat": 4,
  "vscode": {
   "interpreter": {
    "hash": "916dbcbb3f70747c44a77c7bcd40155683ae19c65e1c03b4aa3499c5328201f1"
   }
  }
 },
 "nbformat": 4,
 "nbformat_minor": 2
}
