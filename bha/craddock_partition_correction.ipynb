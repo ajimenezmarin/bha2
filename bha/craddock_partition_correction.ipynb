{
 "cells": [
  {
   "cell_type": "code",
   "execution_count": 6,
   "metadata": {},
   "outputs": [],
   "source": [
    "%load_ext autoreload\n",
    "%autoreload 2"
   ]
  },
  {
   "cell_type": "code",
   "execution_count": 8,
   "metadata": {},
   "outputs": [],
   "source": [
    "import numpy as np\n",
    "import nibabel as nib\n",
    "import glob \n",
    "import os\n",
    "from scipy.ndimage import binary_dilation\n",
    "from ni_functions import get_atlas_coords, image_overlaps"
   ]
  },
  {
   "cell_type": "code",
   "execution_count": 9,
   "metadata": {},
   "outputs": [],
   "source": [
    "project_path = \"/workspaces/bha2/data/craddock/craddock_115\"\n",
    "brain_areas = ['Frontal', 'Parietal', 'Occipital', 'Temporal', 'Insula',  'Subcortical']"
   ]
  },
  {
   "cell_type": "code",
   "execution_count": 180,
   "metadata": {},
   "outputs": [],
   "source": [
    "template_empty = np.zeros(nib.load(os.path.join('/workspaces', 'bha2', 'brain_templates', 'lobule_masks', 'Frontal_mask.nii.gz')).shape)\n",
    "volume_per_roi_desired = 115\n",
    "min_volume_per_roi = 30"
   ]
  },
  {
   "cell_type": "code",
   "execution_count": 181,
   "metadata": {},
   "outputs": [],
   "source": [
    "final_roi_label_counter = 1\n",
    "for b_area in brain_areas:\n",
    "    image_names = glob.glob(os.path.join(project_path, b_area, '*.nii.gz'))\n",
    "\n",
    "    image_roi_labels = []\n",
    "    image_roi_volumes = []\n",
    "    image_mean_roi_vol = []\n",
    "\n",
    "    for im_name in image_names:\n",
    "        image = nib.load(im_name)\n",
    "        image_data = image.get_fdata()\n",
    "        rois = np.setdiff1d(np.unique(image_data), 0).astype(int)\n",
    "\n",
    "        roi_vol = np.zeros((len(rois)))\n",
    "        for idx, roi_number in enumerate(rois):\n",
    "            roi_vol[idx] = np.sum(image_data == roi_number)\n",
    "        image_roi_volumes.append(roi_vol)\n",
    "        image_mean_roi_vol.append(np.mean(roi_vol))\n",
    "        image_roi_labels.append(rois)\n",
    "\n",
    "    size_near_desired = np.argmin(\n",
    "        np.abs(np.array(image_mean_roi_vol) - volume_per_roi_desired))\n",
    "    image_roi_vol_selected = image_roi_volumes[size_near_desired]\n",
    "    image_selected = nib.load(image_names[size_near_desired])\n",
    "    small_rois = image_roi_labels[size_near_desired][np.where(\n",
    "        image_roi_vol_selected < min_volume_per_roi)[0]]\n",
    "\n",
    "    vol_for_small_rois_correction = image_selected.get_fdata()\n",
    "    if len(small_rois) > 0:\n",
    "        for sr in small_rois:\n",
    "            sr_loc = np.where(vol_for_small_rois_correction ==\n",
    "                              sr, 1, 0).astype(bool)\n",
    "            sr_dil_loc = binary_dilation(sr_loc, iterations=1)\n",
    "            neighbours = np.setdiff1d(\n",
    "                np.unique(vol_for_small_rois_correction[sr_dil_loc]), [0, sr]).astype(int)\n",
    "            if len(neighbours) == 0:\n",
    "                sr_dil_loc = binary_dilation(sr_loc, iterations=2)\n",
    "                neighbours = np.setdiff1d(\n",
    "                    np.unique(vol_for_small_rois_correction[sr_dil_loc]), [0, sr]).astype(int)\n",
    "            if len(neighbours) > 0:\n",
    "                size_neighbours = image_roi_vol_selected[np.where(\n",
    "                    np.in1d(image_roi_labels[size_near_desired], neighbours))[0]]\n",
    "                small_neighbour_idx = np.argmin(size_neighbours)\n",
    "                vol_for_small_rois_correction[sr_loc] = neighbours[small_neighbour_idx]\n",
    "            else:\n",
    "                vol_for_small_rois_correction[sr_loc] = 0\n",
    "\n",
    "    new_roi_labels = np.setdiff1d(\n",
    "        np.unique(vol_for_small_rois_correction), 0).astype(int)\n",
    "    for roi in new_roi_labels:\n",
    "        template_empty[vol_for_small_rois_correction ==\n",
    "                       roi] = final_roi_label_counter\n",
    "        final_roi_label_counter += 1\n",
    "\n",
    "nib.save(nib.Nifti1Image(template_empty, image_selected.affine), os.path.join(\n",
    "    '/workspaces', 'bha2', 'brain_templates', 'craddock_' + str(final_roi_label_counter-1) + '.nii.gz'))\n"
   ]
  },
  {
   "cell_type": "code",
   "execution_count": 21,
   "metadata": {},
   "outputs": [],
   "source": [
    "atlas_path = os.path.join('/workspaces', 'bha2',\n",
    "                          'brain_templates', 'craddock_' + str(final_roi_label_counter-1) + '.nii.gz')\n",
    "atlas_coords = get_atlas_coords(atlas_path)\n",
    "\n",
    "atlas = nib.load(atlas_path)\n",
    "atlas_data = atlas.get_fdata()\n",
    "atlas_rois = np.setdiff1d(np.unique(atlas_data), 0).astype(int)\n",
    "\n",
    "overlaps_with_brain_lobes = np.zeros((len(atlas_rois), 2*len(brain_areas)))\n",
    "idx_b_area = 0\n",
    "for b_area in brain_areas:\n",
    "    for roi in atlas_rois:\n",
    "        b_area_mask_L = nib.load(os.path.join('/workspaces', 'bha2', 'brain_templates',\n",
    "                               'lobule_masks', 'masks_splitted_in_hemispheres', b_area + '_L_mask.nii.gz'))\n",
    "        b_area_mask_L_data = b_area_mask_L.get_fdata()\n",
    "        b_area_mask_R = nib.load(os.path.join('/workspaces', 'bha2', 'brain_templates',\n",
    "                               'lobule_masks', 'masks_splitted_in_hemispheres', b_area + '_R_mask.nii.gz'))\n",
    "        b_area_mask_R_data = b_area_mask_R.get_fdata()\n",
    "        roi_mask = np.where(atlas_data == roi, 1, 0)\n",
    "        atlas_coords.loc[roi, b_area + '_L'] = image_overlaps(roi_mask, b_area_mask_L_data)\n",
    "        atlas_coords.loc[roi, b_area + '_R'] = image_overlaps(roi_mask, b_area_mask_R_data)\n",
    "\n",
    "    idx_b_area += 2\n",
    "\n",
    "atlas_coords.index.name = 'ROI_number'\n",
    "atlas_coords.to_csv(os.path.join('/workspaces', 'bha2', 'brain_templates', 'craddock_' + str(final_roi_label_counter-1) + '_rois.csv'))"
   ]
  }
 ],
 "metadata": {
  "kernelspec": {
   "display_name": "Python 3",
   "language": "python",
   "name": "python3"
  },
  "language_info": {
   "codemirror_mode": {
    "name": "ipython",
    "version": 3
   },
   "file_extension": ".py",
   "mimetype": "text/x-python",
   "name": "python",
   "nbconvert_exporter": "python",
   "pygments_lexer": "ipython3",
   "version": "3.9.13"
  },
  "orig_nbformat": 4,
  "vscode": {
   "interpreter": {
    "hash": "d4d1e4263499bec80672ea0156c357c1ee493ec2b1c70f0acce89fc37c4a6abe"
   }
  }
 },
 "nbformat": 4,
 "nbformat_minor": 2
}
