{
 "cells": [
  {
   "attachments": {},
   "cell_type": "markdown",
   "metadata": {},
   "source": [
    "### This notebook is for reproducing the paper results' subsection \"Optimal $\\gamma$-fused structure-function modular organization\" and generate the panels of the figure S1. The goal of the notebook is to test different initial parcellations (iPAs), and comparing the results. We will select for the rest of the analysis the optimal parcellation (oPA) that gives the best cross-modularity  ($\\chi$) results."
   ]
  },
  {
   "attachments": {},
   "cell_type": "markdown",
   "metadata": {},
   "source": [
    "First, it is needed to build the trees. You can use the ones builded by us or build your own trees using the script `src/build_tree.py`. The function can be used as follows:\n",
    "\n",
    "```python3 src/build_tree.py /path/to/your/project CONN_SIZE LOWER_LEVEL UPPER_LEVEL tree_class```\n",
    "\n",
    "where `CONN_SIZE` is the number of nodes of your connectomes, `LOWER_LEVEL` and `UPPER_LEVEL` are the lower and upper levels of the tree to be built, and `tree_class` has two options: \n",
    "* `full` define levels with all the modules included, e.g. level 3 will have 3 modules and level 4 will have 4 modules\n",
    "* `reduced` define levels with unique modules, i.e. level 4 will have two modules equal to the level 3 so them will not be included.\n"
   ]
  },
  {
   "cell_type": "code",
   "execution_count": 1,
   "metadata": {},
   "outputs": [],
   "source": [
    "import numpy as np\n",
    "import os\n",
    "import json\n",
    "import matplotlib.pyplot as plt\n",
    "import seaborn as sns\n",
    "\n",
    "from src.connectivity_functions import *\n",
    "from src.tree_functions import *\n",
    "from src.ni_functions import *\n",
    "from src.io_functions import load_data"
   ]
  },
  {
   "attachments": {},
   "cell_type": "markdown",
   "metadata": {},
   "source": [
    "This code runs the same procedure for every $\\gamma$ and every iPA. For each pair, the cross-modularity ($\\chi$) is computed and stored in a dataframe, for a level-span from 2 to 120 levels, as the maximum $\\chi$ is found in this range."
   ]
  },
  {
   "cell_type": "code",
   "execution_count": 2,
   "metadata": {},
   "outputs": [
    {
     "name": "stdout",
     "output_type": "stream",
     "text": [
      "fcm and scm with CONN_SIZE = 183 loaded from tmp folder\n"
     ]
    }
   ],
   "source": [
    "project_path = \"/workspaces/bha2\"\n",
    "\n",
    "# Defining the connectome sizes to be used as the number of ROIs from each iPA\n",
    "conn_sizes = [183, 391, 568, 729, 964, 1242, 1584, 1795, 2165]\n",
    "\n",
    "# Defining the possible gamma values to be used for the fusion of the two connectomes\n",
    "gammas_vec = [0.0, 0.1, 0.2, 0.3, 0.4, 0.5, 0.6, 0.7, 0.8, 0.9, 1.0]\n",
    "\n",
    "# Defining the lower and the upper levels of the tree\n",
    "LVLMIN = 2\n",
    "LVLMAX = 121\n",
    "\n",
    "# Initializing two empty lists to store the results, df_full will be a dataframe including the \n",
    "# X for each gamma and each connectome size, df_max will be a dataframe including the X at the\n",
    "# optimal gamma for each connectome size\n",
    "df_full = []\n",
    "df_max = []\n",
    "\n",
    "for conn_size in conn_sizes:\n",
    "    # Loading the data and computing the connectome average (or load it if it has been already computed)\n",
    "    if os.path.exists(\n",
    "        os.path.join(project_path, \"tmp\", \"n\" + str(conn_size) + \"_fcm.npy\")\n",
    "    ):\n",
    "        fcm = np.load(\n",
    "            os.path.join(project_path, \"tmp\", \"n\" + str(conn_size) + \"_fcm.npy\")\n",
    "        )\n",
    "        scm = np.load(\n",
    "            os.path.join(project_path, \"tmp\", \"n\" + str(conn_size) + \"_scm.npy\")\n",
    "        )\n",
    "        print(\"fcm and scm with CONN_SIZE = \" + str(conn_size) + \" loaded from tmp folder\")\n",
    "    else:\n",
    "        sc_group = load_data(\n",
    "        os.path.join(project_path, \"data\", \"iPA_\" + str(conn_size), \"sc\")\n",
    "        )\n",
    "        fc_group = load_data(\n",
    "            os.path.join(project_path, \"data\", \"iPA_\" + str(conn_size), \"fc\")\n",
    "        )\n",
    "        fcm, scm = connectome_average(fc_group, sc_group)\n",
    "        if not os.path.exists(os.path.join(project_path, \"tmp\")):\n",
    "            os.mkdir(os.path.join(project_path, \"tmp\"))\n",
    "        np.save(os.path.join(project_path, \"tmp\", \"n\" + str(conn_size) + \"_fcm.npy\"), fcm)\n",
    "        np.save(os.path.join(project_path, \"tmp\", \"n\" + str(conn_size) + \"_scm.npy\"), scm)\n",
    "\n",
    "    # Equating both connectome densities and remove the nodes disconnected from the network\n",
    "    fcm_clean, scm_clean, fc_removed_rois, sc_removed_rois = equal_clean_connectomes(\n",
    "        fcm, scm\n",
    "    )\n",
    "\n",
    "    # Binarizing both connectomes for building the tree\n",
    "    fcm_bin = np.where(abs(fcm_clean) > 0, 1, 0)\n",
    "    scm_bin = np.where(scm_clean > 0, 1, 0)\n",
    "\n",
    "    crossmod_gammas = np.empty((LVLMAX - LVLMIN, len(gammas_vec)))\n",
    "    for g in gammas_vec:\n",
    "        tree = json.loads(\n",
    "            open(\n",
    "                os.path.join(\n",
    "                    project_path,\n",
    "                    \"data\",\n",
    "                    \"iPA_\" + str(conn_size),\n",
    "                    \"gamma-trees\",\n",
    "                    \"tree_full_g_\" + str(g) + \".json\",\n",
    "                )\n",
    "            ).read()\n",
    "        )\n",
    "\n",
    "        # Computing the cross-modularity for each level of the dendrogram and gamma\n",
    "        crossmod = []\n",
    "        mod_sc = []\n",
    "        mod_fc = []\n",
    "        sim_lvl = []\n",
    "        for l in range(LVLMIN, LVLMAX):\n",
    "            level, labels = level_from_tree(tree, l)\n",
    "            roi_size = []\n",
    "            for idx, rois in enumerate(level):\n",
    "                roi_size.append(len(rois))\n",
    "            T = T_from_level(level)\n",
    "            sim = np.nanmean(similarity_level(fcm_clean, scm_clean, level))\n",
    "            mod_sc_lvl = modularity(scm_clean, T)\n",
    "            mod_fc_lvl = modularity(fcm_clean, T)\n",
    "            c = pow((sim * mod_sc_lvl * mod_fc_lvl), (1 / 3))\n",
    "            crossmod.append(c)\n",
    "\n",
    "        # Storing all the cross-modularity values for each gamma and each initial parcellation size\n",
    "        df_full.append(\n",
    "            pd.DataFrame(\n",
    "                np.vstack(\n",
    "                    (\n",
    "                        np.array(crossmod),\n",
    "                        np.array([g] * len(crossmod)),\n",
    "                        np.array([conn_size] * len(crossmod)),\n",
    "                    )\n",
    "                ).T,\n",
    "                columns=[r\"$\\chi$\", r\"$\\gamma^*$\", \"Initial parcellation size (#ROIs)\"],\n",
    "            )\n",
    "        )\n",
    "        # Storing the cross-modularity values for each gamma in a matrix to find the optimal gamma\n",
    "        crossmod_gammas[:, gammas_vec.index(g)] = crossmod\n",
    "\n",
    "    # Searching for the optimal gamma for each initial parcellation size\n",
    "    x, y = np.where(crossmod_gammas == np.nanmax(crossmod_gammas))\n",
    "    # Storing only in a dataframe the cross-modularity values for the optimal gamma (the one that maximizes the cross-modularity)\n",
    "    df_max.append(\n",
    "        pd.DataFrame(\n",
    "            np.vstack(\n",
    "                (\n",
    "                    crossmod_gammas[:, y[0]],\n",
    "                    np.array([gammas_vec[y[0]]] * len(crossmod_gammas[:, y[0]])),\n",
    "                    np.array([conn_size] * len(crossmod_gammas[:, y[0]])),\n",
    "                )\n",
    "            ).T,\n",
    "            columns=[r\"$\\chi$\", r\"$\\gamma^*$\", \"Initial parcellation size (#ROIs)\"],\n",
    "        )\n",
    "    )\n",
    "\n",
    "df_full = pd.concat(df_full)\n",
    "df_max = pd.concat(df_max)\n",
    "df_full[\"Initial parcellation size (#ROIs)\"] = df_full[\n",
    "    \"Initial parcellation size (#ROIs)\"\n",
    "].astype(int)\n",
    "df_max[\"Initial parcellation size (#ROIs)\"] = df_max[\n",
    "    \"Initial parcellation size (#ROIs)\"\n",
    "].astype(int)"
   ]
  },
  {
   "attachments": {},
   "cell_type": "markdown",
   "metadata": {},
   "source": [
    "A boxplot is then generated for each $\\gamma$ in where the maximum $\\chi$ is found ($\\gamma^{*}$), and the iPA that gives the best results is selected (in this case the parcellation with #2165 ROIs). The figure is saved in `bha2/data/figures`."
   ]
  },
  {
   "cell_type": "code",
   "execution_count": 5,
   "metadata": {},
   "outputs": [
    {
     "data": {
      "image/png": "[encoded data removed]",
      "text/plain": [
       "<Figure size 1000x600 with 1 Axes>"
      ]
     },
     "metadata": {},
     "output_type": "display_data"
    }
   ],
   "source": [
    "plt.figure(figsize=(10, 6))\n",
    "max_gammas = np.where(np.in1d(gammas_vec, np.unique(df_max[r\"$\\gamma^*$\"])))\n",
    "palette_paired = sns.color_palette(\"Paired\", len(gammas_vec))\n",
    "palette_max_gammas = [palette_paired[i] for i in max_gammas[0]]\n",
    "\n",
    "sns.boxplot(\n",
    "    x=\"Initial parcellation size (#ROIs)\",\n",
    "    y=r\"$\\chi$\",\n",
    "    hue=r\"$\\gamma^*$\",\n",
    "    dodge=False,\n",
    "    data=df_max,\n",
    "    showfliers=False,\n",
    "    width=0.25,\n",
    "    palette=palette_max_gammas,\n",
    ")\n",
    "if not os.path.exists(os.path.join(project_path, \"data\", \"figures\")):\n",
    "            os.mkdir(os.path.join(project_path, \"data\", \"figures\"))\n",
    "plt.ylabel(r\"$\\chi$\" + \" variability across dendrogram levels\")\n",
    "plt.savefig(\n",
    "    os.path.join(project_path, \"data\", \"figures\", \"initial_parcellation_selection.svg\"),\n",
    "    dpi=300,\n",
    "    bbox_inches=\"tight\",\n",
    "    format=\"svg\",\n",
    ")"
   ]
  },
  {
   "attachments": {},
   "cell_type": "markdown",
   "metadata": {},
   "source": [
    "Looking to the boxplot, we can see that the best results are obtained for $\\gamma=0.7$ when using the iPA with #2165 ROIs"
   ]
  },
  {
   "cell_type": "code",
   "execution_count": 6,
   "metadata": {},
   "outputs": [],
   "source": [
    "CONN_SIZE = 2165"
   ]
  },
  {
   "attachments": {},
   "cell_type": "markdown",
   "metadata": {},
   "source": [
    "Now, we are going to represent a heatmap with all the $\\chi$ values for each $\\gamma$ for the iPA with #2165. The figure is saved in `bha2/data/figures`."
   ]
  },
  {
   "cell_type": "code",
   "execution_count": 7,
   "metadata": {},
   "outputs": [
    {
     "data": {
      "image/png": "[encoded data removed]",
      "text/plain": [
       "<Figure size 300x500 with 2 Axes>"
      ]
     },
     "metadata": {},
     "output_type": "display_data"
    }
   ],
   "source": [
    "# First we have to filter the full dataframe and pivot the df to have a matrix\n",
    "df_best_iPA = df_full[df_full[\"Initial parcellation size (#ROIs)\"] == 2165].drop(\n",
    "    columns=[\"Initial parcellation size (#ROIs)\"]\n",
    ")\n",
    "df_best_iPA_mat = df_best_iPA.pivot(columns=r\"$\\gamma^*$\", values=r\"$\\chi$\")\n",
    "\n",
    "# For making the visualization easier, we filter the number of y-ticks that appear in the heatmap, getting only 4 ticks\n",
    "all_yticks = np.arange(LVLMIN, LVLMAX)\n",
    "desired_yticks = [\n",
    "    0,\n",
    "    len(all_yticks) // 4,\n",
    "    len(all_yticks) // 2,\n",
    "    3 * len(all_yticks) // 4,\n",
    "    len(all_yticks) - 1,\n",
    "]\n",
    "\n",
    "plt.figure(figsize=(3, 5))\n",
    "h = sns.heatmap(\n",
    "    df_best_iPA_mat,\n",
    "    cmap=\"viridis\",\n",
    "    xticklabels=np.around(np.arange(0, 1.1, 0.1), 2),\n",
    "    yticklabels=[\n",
    "        all_yticks[i] if i in desired_yticks else \"\"\n",
    "        for i in range(len(all_yticks) + len(desired_yticks) - 1)\n",
    "    ],\n",
    ")\n",
    "_ = h.set(xlabel=r\"$\\gamma$\", ylabel=\"level (L)\")\n",
    "_ = h.set_title(r\"$\\chi$\")\n",
    "_ = h.tick_params(left=False)\n",
    "\n",
    "plt.savefig(\n",
    "    os.path.join(project_path, \"data\", \"figures\", \"oPA_xmod.svg\"),\n",
    "    dpi=300,\n",
    "    bbox_inches=\"tight\",\n",
    "    format=\"svg\",\n",
    ")"
   ]
  },
  {
   "attachments": {},
   "cell_type": "markdown",
   "metadata": {},
   "source": [
    "We get the level and $\\gamma$ for the maximum $\\chi$."
   ]
  },
  {
   "cell_type": "code",
   "execution_count": 8,
   "metadata": {},
   "outputs": [
    {
     "name": "stdout",
     "output_type": "stream",
     "text": [
      "Optimal gamma:  0.7\n",
      "Optimal level:  28\n"
     ]
    }
   ],
   "source": [
    "x, y = np.where(df_best_iPA_mat.values == np.nanmax(df_best_iPA_mat.values))\n",
    "gammas_vec = np.arange(0, 1.1, 0.1)\n",
    "levels_vec = np.arange(LVLMIN, LVLMAX)\n",
    "opt_gamma = round(gammas_vec[y][0], 2)\n",
    "opt_level = levels_vec[x][0]\n",
    "\n",
    "print(\"Optimal gamma: \", opt_gamma)\n",
    "print(\"Optimal level: \", opt_level)"
   ]
  },
  {
   "attachments": {},
   "cell_type": "markdown",
   "metadata": {},
   "source": [
    "Finally, we generate the optimal parcellation (oPA) image, and save it in `bha2/data/processed/CONN_SIZE`."
   ]
  },
  {
   "cell_type": "code",
   "execution_count": 16,
   "metadata": {},
   "outputs": [],
   "source": [
    "CONN_SIZE = 2165\n",
    "\n",
    "tree = json.loads(\n",
    "    open(\n",
    "        os.path.join(\n",
    "            project_path,\n",
    "            \"data\",\n",
    "            \"iPA_\" + str(CONN_SIZE),\n",
    "            \"gamma-trees\",\n",
    "            \"tree_full_g_\" + str(opt_gamma) + \".json\",\n",
    "        )\n",
    "    ).read()\n",
    ")\n",
    "\n",
    "# We not include such modules with less than 5 ROIs, as we want to study deeply the connections inside a module.\n",
    "SM_THRESH = 5\n",
    "lvl = opt_level\n",
    "level, labels = level_from_tree(tree, lvl)\n",
    "\n",
    "initial_parcellation = nib.load(\n",
    "    os.path.join(\n",
    "        project_path,\n",
    "        \"data\",\n",
    "        \"iPA_\" + str(CONN_SIZE),\n",
    "        \"processed\",\n",
    "        \"initial_parcellation.nii.gz\",\n",
    "    )\n",
    ")\n",
    "initial_parcellation_data = initial_parcellation.get_fdata()\n",
    "\n",
    "optimal_parcellation = np.zeros(\n",
    "    (\n",
    "        initial_parcellation_data.shape[0],\n",
    "        initial_parcellation_data.shape[1],\n",
    "        initial_parcellation_data.shape[2],\n",
    "    )\n",
    ")\n",
    "idx = 0\n",
    "roi_size = []\n",
    "for rois in level:\n",
    "    if len(rois) > SM_THRESH:\n",
    "        roi_size.append(len(rois))\n",
    "        mod = get_module_vol(initial_parcellation, rois, idx + 1)\n",
    "        optimal_parcellation = optimal_parcellation + mod.astype(int)\n",
    "        idx += 1\n",
    "optimal_parcellation_img = nib.Nifti1Image(\n",
    "    optimal_parcellation, affine=initial_parcellation.affine\n",
    ")\n",
    "\n",
    "nib.save(\n",
    "    optimal_parcellation_img,\n",
    "    os.path.join(\n",
    "        project_path,\n",
    "        \"data\",\n",
    "        \"iPA_\" + str(CONN_SIZE),\n",
    "        \"processed\",\n",
    "        \"optimal_parcellation.nii.gz\",\n",
    "    ),\n",
    ")"
   ]
  }
 ],
 "metadata": {
  "kernelspec": {
   "display_name": "Python 3",
   "language": "python",
   "name": "python3"
  },
  "language_info": {
   "codemirror_mode": {
    "name": "ipython",
    "version": 3
   },
   "file_extension": ".py",
   "mimetype": "text/x-python",
   "name": "python",
   "nbconvert_exporter": "python",
   "pygments_lexer": "ipython3",
   "version": "3.9.16"
  },
  "orig_nbformat": 4,
  "vscode": {
   "interpreter": {
    "hash": "949777d72b0d2535278d3dc13498b2535136f6dfe0678499012e853ee9abcab1"
   }
  }
 },
 "nbformat": 4,
 "nbformat_minor": 2
}
