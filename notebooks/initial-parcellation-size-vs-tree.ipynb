{
 "cells": [
  {
   "cell_type": "code",
   "execution_count": 3,
   "metadata": {},
   "outputs": [],
   "source": [
    "import sys\n",
    "sys.path.append('/workspaces/bha2/src')"
   ]
  },
  {
   "cell_type": "code",
   "execution_count": 4,
   "metadata": {},
   "outputs": [],
   "source": [
    "%load_ext autoreload\n",
    "%autoreload 2"
   ]
  },
  {
   "cell_type": "code",
   "execution_count": 5,
   "metadata": {},
   "outputs": [
    {
     "name": "stderr",
     "output_type": "stream",
     "text": [
      "/opt/conda/lib/python3.9/site-packages/nilearn/input_data/__init__.py:23: FutureWarning: The import path 'nilearn.input_data' is deprecated in version 0.9. Importing from 'nilearn.input_data' will be possible at least until release 0.13.0. Please import from 'nilearn.maskers' instead.\n",
      "  warnings.warn(message, FutureWarning)\n"
     ]
    }
   ],
   "source": [
    "import numpy as np\n",
    "import nibabel as nib\n",
    "from nilearn import plotting\n",
    "from connectivity_functions import *\n",
    "from tree_functions import *\n",
    "from ni_functions import *\n",
    "from io_functions import load_data, load_receptor_data\n",
    "import os\n",
    "import json\n",
    "import matplotlib.pyplot as plt\n",
    "plt.rcParams['figure.figsize'] = (20, 10)\n",
    "import seaborn as sns"
   ]
  },
  {
   "cell_type": "code",
   "execution_count": 6,
   "metadata": {},
   "outputs": [],
   "source": [
    "project_path = \"/workspaces/bha2\"\n",
    "conn_size_small = 183\n",
    "conn_size_big = 2165"
   ]
  },
  {
   "attachments": {},
   "cell_type": "markdown",
   "metadata": {},
   "source": [
    "## First we compute the xmod without building the tree using a parcellation with small number of rois"
   ]
  },
  {
   "cell_type": "code",
   "execution_count": 7,
   "metadata": {},
   "outputs": [
    {
     "name": "stdout",
     "output_type": "stream",
     "text": [
      "fcm and scm loaded from tmp folder\n"
     ]
    }
   ],
   "source": [
    "if os.path.exists(os.path.join(project_path, \"tmp\", \"n\" + str(conn_size_small) + \"_fcm.npy\")):\n",
    "    fcm = np.load(os.path.join(project_path, \"tmp\", \"n\" + str(conn_size_small) + \"_fcm.npy\"))\n",
    "    scm = np.load(os.path.join(project_path, \"tmp\", \"n\" + str(conn_size_small) + \"_scm.npy\"))\n",
    "    print(\"fcm and scm loaded from tmp folder\")\n",
    "else:\n",
    "    sc_group = load_data(os.path.join(project_path, \"data\", \"raw\", \"n\" + str(conn_size_small), \"sc\"))\n",
    "    fc_group = load_data(os.path.join(project_path, \"data\", \"raw\", \"n\" + str(conn_size_small), \"fc\"))\n",
    "    fcm, scm = connectome_average(fc_group, sc_group)\n",
    "    np.save(os.path.join(project_path, \"tmp\", \"n\" + str(conn_size_small) + \"_fcm.npy\"), fcm)\n",
    "    np.save(os.path.join(project_path, \"tmp\", \"n\" + str(conn_size_small) + \"_scm.npy\"), scm)"
   ]
  },
  {
   "cell_type": "code",
   "execution_count": 8,
   "metadata": {},
   "outputs": [
    {
     "name": "stdout",
     "output_type": "stream",
     "text": [
      "connectome density = 0.59249305742184\n"
     ]
    }
   ],
   "source": [
    "zero_rows_sc = np.where(~scm.any(axis=1))[0]\n",
    "fcm_nonzero, scm_nonzero = remove_rois_from_connectomes(zero_rows_sc, fcm, scm)\n",
    "density = np.where(scm_nonzero.flatten() > 0, 1, 0).sum(dtype=float) / (len(scm_nonzero.flatten()))\n",
    "fcm_thr = density_threshold(fcm_nonzero, density)\n",
    "zero_rows_fc = np.where(~fcm_thr.any(axis=1))[0]\n",
    "fcm_nonzero, scm_nonzero = remove_rois_from_connectomes(zero_rows_fc, fcm_thr, scm_nonzero)\n",
    "\n",
    "print(\"connectome density = \" + str(density))"
   ]
  },
  {
   "cell_type": "code",
   "execution_count": null,
   "metadata": {},
   "outputs": [],
   "source": [
    "sim = similarity_mean_level(fcm_nonzero, scm_nonzero, level)\n",
    "mod_sc_lvl = modularity(scm_nonzero, T)\n",
    "mod_fc_lvl = modularity(fcm_nonzero, T)\n",
    "xmod = pow((sim * mod_sc_lvl * mod_fc_lvl), (1 / 3))"
   ]
  }
 ],
 "metadata": {
  "kernelspec": {
   "display_name": "Python 3",
   "language": "python",
   "name": "python3"
  },
  "language_info": {
   "codemirror_mode": {
    "name": "ipython",
    "version": 3
   },
   "file_extension": ".py",
   "mimetype": "text/x-python",
   "name": "python",
   "nbconvert_exporter": "python",
   "pygments_lexer": "ipython3",
   "version": "3.9.13"
  },
  "orig_nbformat": 4,
  "vscode": {
   "interpreter": {
    "hash": "d4d1e4263499bec80672ea0156c357c1ee493ec2b1c70f0acce89fc37c4a6abe"
   }
  }
 },
 "nbformat": 4,
 "nbformat_minor": 2
}
